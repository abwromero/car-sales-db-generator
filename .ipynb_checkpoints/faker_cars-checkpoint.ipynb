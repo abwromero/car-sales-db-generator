{
 "cells": [
  {
   "cell_type": "code",
   "execution_count": 1,
   "id": "0fb55de0-7356-4385-a7b1-662b61e3eccd",
   "metadata": {},
   "outputs": [],
   "source": [
    "from csv import reader\n",
    "from faker import Faker\n",
    "from faker.providers import BaseProvider, DynamicProvider\n",
    "import pandas as pd\n",
    "from psycopg2 import connect, extensions, sql\n",
    "import random"
   ]
  },
  {
   "cell_type": "code",
   "execution_count": 2,
   "id": "8ec97c37-1665-40c3-b6b7-a1c18179606f",
   "metadata": {},
   "outputs": [],
   "source": [
    "with open('./csv-files/vehicle-models.csv') as file:\n",
    "    read_file = reader(file)\n",
    "    cars = list(read_file)"
   ]
  },
  {
   "cell_type": "code",
   "execution_count": 3,
   "id": "fcf09de6-0f00-49ec-aee1-e9b20436f1c6",
   "metadata": {
    "scrolled": true
   },
   "outputs": [
    {
     "name": "stdout",
     "output_type": "stream",
     "text": [
      "['BMW 218i Coupe M Sport P 3,590,000 (AT)', 'BMW 220i Coupe M Sport P 3,690,000 (AT)', 'BMW M240i Coupe M Sport P 4,890,000 (AT)', 'BMW 318i Sport P 3,790,000 (AT)', 'BMW 318i Touring P 3,890,000 (AT)']\n"
     ]
    }
   ],
   "source": [
    "cars_sum = []\n",
    "for list in cars:\n",
    "    cars_sum.append(list[2] + ' ' + list[3])\n",
    "\n",
    "print(cars_sum[:5])"
   ]
  },
  {
   "cell_type": "code",
   "execution_count": 4,
   "id": "88306e45-71a5-440b-bbac-ce106d2673d0",
   "metadata": {},
   "outputs": [],
   "source": [
    "bank_list = [\"BDO\", \"Banco de Oro\",\n",
    "             \"MB\", \"Metrobank\",\n",
    "             \"BPI\", \"Bank of the Philippine Islands\",\n",
    "             \"LBP\", \"Land Bank of the Philippines\", \"Land Bank\",\n",
    "             \"DBP\", \"Development Bank of the Philippines\", \"Development Bank\"\n",
    "             \"PNB\", \"Philippine National Bank\", \n",
    "             \"RCBC\", \"Rizal Commercial Banking Corporation\",\n",
    "             \"UBP\", \"Union Bank of the Philippines\",\n",
    "             \"Chinabank\", \n",
    "             \"AUB\", \"Asia United Bank\", \"Asia United\",\n",
    "             \"In-house\"]\n",
    "\n",
    "payment_terms = [\"12\", \"24\", \"36\", \"48\", \"60\", \"1\", \"2\", \"3\", \"4\", \"5\", \"6\"]\n",
    "\n",
    "car_colors = [\"White\", \"white\",\n",
    "              \"Black\", \"black\", \"blk\"\n",
    "              \"Gray\", \"gray\", \"Grey\", \"gray\",\n",
    "              \"Silver\", \"silver\",\n",
    "              \"Red\", \"red\",\n",
    "              \"Green\", \"green\",\n",
    "              \"Blue\", \"blue\", \"blu\"\n",
    "              \"Orange\", \"orange\",\n",
    "              \"Yellow\", \"yellow\", \"ylw\"\n",
    "              \"Teal\", \"Sky Blue\", \"Skyblue\", \"skyblue\"]"
   ]
  },
  {
   "cell_type": "code",
   "execution_count": 5,
   "id": "3f3e23ef-0ac4-4d93-a8d8-9100b385e2b4",
   "metadata": {},
   "outputs": [
    {
     "name": "stdout",
     "output_type": "stream",
     "text": [
      "Geely Emgrand 1.5 Comfort P 945,000 (AT)\n",
      "Union Bank of the Philippines\n",
      "5\n",
      "Silver\n",
      "I17-39-515994\n"
     ]
    }
   ],
   "source": [
    "f = Faker(['en_PH'])\n",
    "\n",
    "car_sold = DynamicProvider(\n",
    "    provider_name='car_sold',\n",
    "    elements=cars_sum\n",
    ")\n",
    "\n",
    "f.add_provider(car_sold)\n",
    "print(f.car_sold())\n",
    "\n",
    "bank_provider = DynamicProvider(\n",
    "    provider_name='bank',\n",
    "    elements=bank_list\n",
    ")\n",
    "\n",
    "f.add_provider(bank_provider)\n",
    "print(f.bank())\n",
    "\n",
    "payment_terms_provider = DynamicProvider(\n",
    "    provider_name='terms',\n",
    "    elements=payment_terms\n",
    ")\n",
    "\n",
    "f.add_provider(payment_terms_provider)\n",
    "print(f.terms())\n",
    "\n",
    "car_colors_provider = DynamicProvider(\n",
    "    provider_name='car_color',\n",
    "    elements=car_colors\n",
    ")\n",
    "\n",
    "f.add_provider(car_colors_provider)\n",
    "print(f.car_color())\n",
    "\n",
    "class LicenseProvider(BaseProvider):\n",
    "    def license_number(self):\n",
    "        return f.bothify(text=\"?##-##-######\", letters=\"ABCDEFGHIJKLMNOP\")\n",
    "\n",
    "f.add_provider(LicenseProvider)\n",
    "print(f.license_number())"
   ]
  },
  {
   "cell_type": "code",
   "execution_count": 6,
   "id": "ca46a1d3-91ae-4cec-8cd9-c252939cfda3",
   "metadata": {},
   "outputs": [],
   "source": [
    "conn = connect(\n",
    "    dbname='faker',\n",
    "    user='faker',\n",
    "    host='faker-db',\n",
    "    password='faker'\n",
    ")"
   ]
  },
  {
   "cell_type": "code",
   "execution_count": 11,
   "id": "540d3ac1-9339-432e-8efa-a15a9311b9ac",
   "metadata": {},
   "outputs": [],
   "source": [
    "cursor = conn.cursor()\n",
    "# conn.autocommit = True\n",
    "# DATABASE_NAME = \"car_sales\"\n",
    "SCHEMA_NAME = \"faker.raw\"\n",
    "TABLE_NAME = \"faker.raw.raw_values\"\n",
    "# cursor.execute(sql.SQL(\n",
    "#     \"CREATE DATABASE {};\").format(sql.Identifier( DATABASE_NAME )))\n",
    "cursor.execute(sql.SQL(\n",
    "    \"CREATE SCHEMA IF NOT EXISTS {};\").format(sql.Identifier( SCHEMA_NAME )))\n",
    "cursor.execute(sql.SQL(\n",
    "    \"\"\"CREATE TABLE IF NOT EXISTS {} (\n",
    "    id SERIAL PRIMARY KEY,\n",
    "    name VARCHAR(25),\n",
    "    license CHAR(13),\n",
    "    num CHAR(15),\n",
    "    email VARCHAR(40),\n",
    "    company VARCHAR(80),\n",
    "    street VARCHAR(80),\n",
    "    city VARCHAR(40),\n",
    "    province VARCHAR(20),\n",
    "    date VARCHAR(27),\n",
    "    bank VARCHAR(40),\n",
    "    terms SMALLINT,\n",
    "    car VARCHAR(100),\n",
    "    color VARCHAR(8),\n",
    "    plate VARCHAR(7)\n",
    "    );\"\"\").format(sql.Identifier( TABLE_NAME )))\n",
    "conn.commit()\n",
    "cursor.close()"
   ]
  },
  {
   "cell_type": "code",
   "execution_count": 8,
   "id": "f5bee734-b8ce-4ae4-a69e-500f96ec2de1",
   "metadata": {},
   "outputs": [
    {
     "name": "stdout",
     "output_type": "stream",
     "text": [
      "[('raw',), ('raw',), ('raw',), ('raw',), ('raw',)]\n"
     ]
    }
   ],
   "source": [
    "cursor = conn.cursor()\n",
    "cursor.execute(\n",
    "    \"\"\"\n",
    "SELECT 'raw'\n",
    "FROM information_schema.schemata\n",
    "\"\"\"\n",
    ")\n",
    "output = cursor.fetchall()\n",
    "cursor.close()\n",
    "\n",
    "print(output)"
   ]
  },
  {
   "cell_type": "code",
   "execution_count": 9,
   "id": "6c3a799d-d5bd-4939-8d36-93f28ec4db10",
   "metadata": {},
   "outputs": [
    {
     "name": "stdout",
     "output_type": "stream",
     "text": [
      "[('faker', 'pg_catalog', 'pg_statistic', 'BASE TABLE', None, None, None, None, None, 'YES', 'NO', None), ('faker', 'pg_catalog', 'pg_type', 'BASE TABLE', None, None, None, None, None, 'YES', 'NO', None), ('faker', 'pg_catalog', 'pg_foreign_table', 'BASE TABLE', None, None, None, None, None, 'YES', 'NO', None), ('faker', 'pg_catalog', 'pg_authid', 'BASE TABLE', None, None, None, None, None, 'YES', 'NO', None), ('faker', 'pg_catalog', 'pg_shadow', 'VIEW', None, None, None, None, None, 'NO', 'NO', None), ('faker', 'pg_catalog', 'pg_statistic_ext_data', 'BASE TABLE', None, None, None, None, None, 'YES', 'NO', None), ('faker', 'pg_catalog', 'pg_roles', 'VIEW', None, None, None, None, None, 'NO', 'NO', None), ('faker', 'pg_catalog', 'pg_settings', 'VIEW', None, None, None, None, None, 'NO', 'NO', None), ('faker', 'pg_catalog', 'pg_file_settings', 'VIEW', None, None, None, None, None, 'NO', 'NO', None), ('faker', 'pg_catalog', 'pg_hba_file_rules', 'VIEW', None, None, None, None, None, 'NO', 'NO', None), ('faker', 'pg_catalog', 'pg_config', 'VIEW', None, None, None, None, None, 'NO', 'NO', None), ('faker', 'pg_catalog', 'pg_shmem_allocations', 'VIEW', None, None, None, None, None, 'NO', 'NO', None), ('faker', 'pg_catalog', 'pg_backend_memory_contexts', 'VIEW', None, None, None, None, None, 'NO', 'NO', None), ('faker', 'pg_catalog', 'pg_available_extension_versions', 'VIEW', None, None, None, None, None, 'NO', 'NO', None), ('faker', 'public', 'faker.raw.raw_values', 'BASE TABLE', None, None, None, None, None, 'YES', 'NO', None), ('faker', 'pg_catalog', 'pg_user_mapping', 'BASE TABLE', None, None, None, None, None, 'YES', 'NO', None), ('faker', 'pg_catalog', 'pg_stat_xact_user_functions', 'VIEW', None, None, None, None, None, 'NO', 'NO', None), ('faker', 'pg_catalog', 'pg_replication_origin_status', 'VIEW', None, None, None, None, None, 'NO', 'NO', None), ('faker', 'pg_catalog', 'pg_subscription', 'BASE TABLE', None, None, None, None, None, 'YES', 'NO', None), ('faker', 'pg_catalog', 'pg_attribute', 'BASE TABLE', None, None, None, None, None, 'YES', 'NO', None), ('faker', 'pg_catalog', 'pg_proc', 'BASE TABLE', None, None, None, None, None, 'YES', 'NO', None), ('faker', 'pg_catalog', 'pg_class', 'BASE TABLE', None, None, None, None, None, 'YES', 'NO', None), ('faker', 'pg_catalog', 'pg_attrdef', 'BASE TABLE', None, None, None, None, None, 'YES', 'NO', None), ('faker', 'pg_catalog', 'pg_constraint', 'BASE TABLE', None, None, None, None, None, 'YES', 'NO', None), ('faker', 'pg_catalog', 'pg_inherits', 'BASE TABLE', None, None, None, None, None, 'YES', 'NO', None), ('faker', 'pg_catalog', 'pg_index', 'BASE TABLE', None, None, None, None, None, 'YES', 'NO', None), ('faker', 'pg_catalog', 'pg_operator', 'BASE TABLE', None, None, None, None, None, 'YES', 'NO', None), ('faker', 'pg_catalog', 'pg_opfamily', 'BASE TABLE', None, None, None, None, None, 'YES', 'NO', None), ('faker', 'pg_catalog', 'pg_opclass', 'BASE TABLE', None, None, None, None, None, 'YES', 'NO', None), ('faker', 'pg_catalog', 'pg_am', 'BASE TABLE', None, None, None, None, None, 'YES', 'NO', None), ('faker', 'pg_catalog', 'pg_amop', 'BASE TABLE', None, None, None, None, None, 'YES', 'NO', None), ('faker', 'pg_catalog', 'pg_amproc', 'BASE TABLE', None, None, None, None, None, 'YES', 'NO', None), ('faker', 'pg_catalog', 'pg_language', 'BASE TABLE', None, None, None, None, None, 'YES', 'NO', None), ('faker', 'pg_catalog', 'pg_stat_archiver', 'VIEW', None, None, None, None, None, 'NO', 'NO', None), ('faker', 'pg_catalog', 'pg_stat_bgwriter', 'VIEW', None, None, None, None, None, 'NO', 'NO', None), ('faker', 'pg_catalog', 'pg_stat_wal', 'VIEW', None, None, None, None, None, 'NO', 'NO', None), ('faker', 'pg_catalog', 'pg_stat_progress_analyze', 'VIEW', None, None, None, None, None, 'NO', 'NO', None), ('faker', 'pg_catalog', 'pg_stat_progress_vacuum', 'VIEW', None, None, None, None, None, 'NO', 'NO', None), ('faker', 'pg_catalog', 'pg_stat_progress_cluster', 'VIEW', None, None, None, None, None, 'NO', 'NO', None), ('faker', 'pg_catalog', 'pg_stat_progress_create_index', 'VIEW', None, None, None, None, None, 'NO', 'NO', None), ('faker', 'pg_catalog', 'pg_stat_progress_basebackup', 'VIEW', None, None, None, None, None, 'NO', 'NO', None), ('faker', 'pg_catalog', 'pg_stat_progress_copy', 'VIEW', None, None, None, None, None, 'NO', 'NO', None), ('faker', 'pg_catalog', 'pg_largeobject_metadata', 'BASE TABLE', None, None, None, None, None, 'YES', 'NO', None), ('faker', 'pg_catalog', 'pg_aggregate', 'BASE TABLE', None, None, None, None, None, 'YES', 'NO', None), ('faker', 'pg_catalog', 'pg_statistic_ext', 'BASE TABLE', None, None, None, None, None, 'YES', 'NO', None), ('faker', 'pg_catalog', 'pg_rewrite', 'BASE TABLE', None, None, None, None, None, 'YES', 'NO', None), ('faker', 'pg_catalog', 'pg_trigger', 'BASE TABLE', None, None, None, None, None, 'YES', 'NO', None), ('faker', 'pg_catalog', 'pg_event_trigger', 'BASE TABLE', None, None, None, None, None, 'YES', 'NO', None), ('faker', 'pg_catalog', 'pg_description', 'BASE TABLE', None, None, None, None, None, 'YES', 'NO', None), ('faker', 'pg_catalog', 'pg_cast', 'BASE TABLE', None, None, None, None, None, 'YES', 'NO', None), ('faker', 'pg_catalog', 'pg_enum', 'BASE TABLE', None, None, None, None, None, 'YES', 'NO', None), ('faker', 'pg_catalog', 'pg_namespace', 'BASE TABLE', None, None, None, None, None, 'YES', 'NO', None), ('faker', 'pg_catalog', 'pg_conversion', 'BASE TABLE', None, None, None, None, None, 'YES', 'NO', None), ('faker', 'pg_catalog', 'pg_depend', 'BASE TABLE', None, None, None, None, None, 'YES', 'NO', None), ('faker', 'pg_catalog', 'pg_database', 'BASE TABLE', None, None, None, None, None, 'YES', 'NO', None), ('faker', 'pg_catalog', 'pg_db_role_setting', 'BASE TABLE', None, None, None, None, None, 'YES', 'NO', None), ('faker', 'pg_catalog', 'pg_tablespace', 'BASE TABLE', None, None, None, None, None, 'YES', 'NO', None), ('faker', 'pg_catalog', 'pg_auth_members', 'BASE TABLE', None, None, None, None, None, 'YES', 'NO', None), ('faker', 'pg_catalog', 'pg_shdepend', 'BASE TABLE', None, None, None, None, None, 'YES', 'NO', None), ('faker', 'pg_catalog', 'pg_shdescription', 'BASE TABLE', None, None, None, None, None, 'YES', 'NO', None), ('faker', 'pg_catalog', 'pg_ts_config', 'BASE TABLE', None, None, None, None, None, 'YES', 'NO', None), ('faker', 'pg_catalog', 'pg_ts_config_map', 'BASE TABLE', None, None, None, None, None, 'YES', 'NO', None), ('faker', 'pg_catalog', 'pg_ts_dict', 'BASE TABLE', None, None, None, None, None, 'YES', 'NO', None), ('faker', 'pg_catalog', 'pg_ts_parser', 'BASE TABLE', None, None, None, None, None, 'YES', 'NO', None), ('faker', 'pg_catalog', 'pg_ts_template', 'BASE TABLE', None, None, None, None, None, 'YES', 'NO', None), ('faker', 'pg_catalog', 'pg_extension', 'BASE TABLE', None, None, None, None, None, 'YES', 'NO', None), ('faker', 'pg_catalog', 'pg_foreign_data_wrapper', 'BASE TABLE', None, None, None, None, None, 'YES', 'NO', None), ('faker', 'pg_catalog', 'pg_foreign_server', 'BASE TABLE', None, None, None, None, None, 'YES', 'NO', None), ('faker', 'pg_catalog', 'pg_policy', 'BASE TABLE', None, None, None, None, None, 'YES', 'NO', None), ('faker', 'pg_catalog', 'pg_replication_origin', 'BASE TABLE', None, None, None, None, None, 'YES', 'NO', None), ('faker', 'pg_catalog', 'pg_default_acl', 'BASE TABLE', None, None, None, None, None, 'YES', 'NO', None), ('faker', 'pg_catalog', 'pg_init_privs', 'BASE TABLE', None, None, None, None, None, 'YES', 'NO', None), ('faker', 'pg_catalog', 'pg_seclabel', 'BASE TABLE', None, None, None, None, None, 'YES', 'NO', None), ('faker', 'pg_catalog', 'pg_shseclabel', 'BASE TABLE', None, None, None, None, None, 'YES', 'NO', None), ('faker', 'pg_catalog', 'pg_collation', 'BASE TABLE', None, None, None, None, None, 'YES', 'NO', None), ('faker', 'pg_catalog', 'pg_partitioned_table', 'BASE TABLE', None, None, None, None, None, 'YES', 'NO', None), ('faker', 'pg_catalog', 'pg_range', 'BASE TABLE', None, None, None, None, None, 'YES', 'NO', None), ('faker', 'pg_catalog', 'pg_transform', 'BASE TABLE', None, None, None, None, None, 'YES', 'NO', None), ('faker', 'pg_catalog', 'pg_sequence', 'BASE TABLE', None, None, None, None, None, 'YES', 'NO', None), ('faker', 'pg_catalog', 'pg_publication', 'BASE TABLE', None, None, None, None, None, 'YES', 'NO', None), ('faker', 'pg_catalog', 'pg_publication_rel', 'BASE TABLE', None, None, None, None, None, 'YES', 'NO', None), ('faker', 'pg_catalog', 'pg_subscription_rel', 'BASE TABLE', None, None, None, None, None, 'YES', 'NO', None), ('faker', 'pg_catalog', 'pg_matviews', 'VIEW', None, None, None, None, None, 'NO', 'NO', None), ('faker', 'pg_catalog', 'pg_group', 'VIEW', None, None, None, None, None, 'YES', 'NO', None), ('faker', 'pg_catalog', 'pg_user', 'VIEW', None, None, None, None, None, 'NO', 'NO', None), ('faker', 'pg_catalog', 'pg_policies', 'VIEW', None, None, None, None, None, 'NO', 'NO', None), ('faker', 'pg_catalog', 'pg_rules', 'VIEW', None, None, None, None, None, 'NO', 'NO', None), ('faker', 'pg_catalog', 'pg_views', 'VIEW', None, None, None, None, None, 'NO', 'NO', None), ('faker', 'pg_catalog', 'pg_tables', 'VIEW', None, None, None, None, None, 'NO', 'NO', None), ('faker', 'pg_catalog', 'pg_indexes', 'VIEW', None, None, None, None, None, 'NO', 'NO', None), ('faker', 'pg_catalog', 'pg_sequences', 'VIEW', None, None, None, None, None, 'NO', 'NO', None), ('faker', 'pg_catalog', 'pg_stats', 'VIEW', None, None, None, None, None, 'NO', 'NO', None), ('faker', 'pg_catalog', 'pg_stats_ext', 'VIEW', None, None, None, None, None, 'NO', 'NO', None), ('faker', 'pg_catalog', 'pg_stats_ext_exprs', 'VIEW', None, None, None, None, None, 'NO', 'NO', None), ('faker', 'pg_catalog', 'pg_publication_tables', 'VIEW', None, None, None, None, None, 'NO', 'NO', None), ('faker', 'pg_catalog', 'pg_locks', 'VIEW', None, None, None, None, None, 'NO', 'NO', None), ('faker', 'pg_catalog', 'pg_cursors', 'VIEW', None, None, None, None, None, 'NO', 'NO', None), ('faker', 'pg_catalog', 'pg_available_extensions', 'VIEW', None, None, None, None, None, 'NO', 'NO', None), ('faker', 'pg_catalog', 'pg_prepared_xacts', 'VIEW', None, None, None, None, None, 'NO', 'NO', None), ('faker', 'pg_catalog', 'pg_prepared_statements', 'VIEW', None, None, None, None, None, 'NO', 'NO', None), ('faker', 'pg_catalog', 'pg_seclabels', 'VIEW', None, None, None, None, None, 'NO', 'NO', None), ('faker', 'pg_catalog', 'pg_stat_xact_user_tables', 'VIEW', None, None, None, None, None, 'NO', 'NO', None), ('faker', 'pg_catalog', 'pg_timezone_abbrevs', 'VIEW', None, None, None, None, None, 'NO', 'NO', None), ('faker', 'pg_catalog', 'pg_timezone_names', 'VIEW', None, None, None, None, None, 'NO', 'NO', None), ('faker', 'pg_catalog', 'pg_statio_all_tables', 'VIEW', None, None, None, None, None, 'NO', 'NO', None), ('faker', 'pg_catalog', 'pg_statio_sys_tables', 'VIEW', None, None, None, None, None, 'NO', 'NO', None), ('faker', 'pg_catalog', 'pg_stat_all_tables', 'VIEW', None, None, None, None, None, 'NO', 'NO', None), ('faker', 'pg_catalog', 'pg_stat_xact_all_tables', 'VIEW', None, None, None, None, None, 'NO', 'NO', None), ('faker', 'pg_catalog', 'pg_stat_sys_tables', 'VIEW', None, None, None, None, None, 'NO', 'NO', None), ('faker', 'pg_catalog', 'pg_stat_xact_sys_tables', 'VIEW', None, None, None, None, None, 'NO', 'NO', None), ('faker', 'pg_catalog', 'pg_stat_user_tables', 'VIEW', None, None, None, None, None, 'NO', 'NO', None), ('faker', 'pg_catalog', 'pg_statio_user_tables', 'VIEW', None, None, None, None, None, 'NO', 'NO', None), ('faker', 'pg_catalog', 'pg_stat_all_indexes', 'VIEW', None, None, None, None, None, 'NO', 'NO', None), ('faker', 'pg_catalog', 'pg_stat_sys_indexes', 'VIEW', None, None, None, None, None, 'NO', 'NO', None), ('faker', 'pg_catalog', 'pg_stat_user_indexes', 'VIEW', None, None, None, None, None, 'NO', 'NO', None), ('faker', 'pg_catalog', 'pg_statio_all_indexes', 'VIEW', None, None, None, None, None, 'NO', 'NO', None), ('faker', 'pg_catalog', 'pg_statio_sys_indexes', 'VIEW', None, None, None, None, None, 'NO', 'NO', None), ('faker', 'pg_catalog', 'pg_statio_user_indexes', 'VIEW', None, None, None, None, None, 'NO', 'NO', None), ('faker', 'pg_catalog', 'pg_statio_all_sequences', 'VIEW', None, None, None, None, None, 'NO', 'NO', None), ('faker', 'pg_catalog', 'pg_statio_sys_sequences', 'VIEW', None, None, None, None, None, 'NO', 'NO', None), ('faker', 'pg_catalog', 'pg_statio_user_sequences', 'VIEW', None, None, None, None, None, 'NO', 'NO', None), ('faker', 'pg_catalog', 'pg_stat_activity', 'VIEW', None, None, None, None, None, 'NO', 'NO', None), ('faker', 'pg_catalog', 'pg_stat_replication', 'VIEW', None, None, None, None, None, 'NO', 'NO', None), ('faker', 'pg_catalog', 'pg_stat_slru', 'VIEW', None, None, None, None, None, 'NO', 'NO', None), ('faker', 'pg_catalog', 'pg_stat_wal_receiver', 'VIEW', None, None, None, None, None, 'NO', 'NO', None), ('faker', 'pg_catalog', 'pg_stat_subscription', 'VIEW', None, None, None, None, None, 'NO', 'NO', None), ('faker', 'pg_catalog', 'pg_stat_ssl', 'VIEW', None, None, None, None, None, 'NO', 'NO', None), ('faker', 'pg_catalog', 'pg_stat_gssapi', 'VIEW', None, None, None, None, None, 'NO', 'NO', None), ('faker', 'pg_catalog', 'pg_replication_slots', 'VIEW', None, None, None, None, None, 'NO', 'NO', None), ('faker', 'pg_catalog', 'pg_stat_replication_slots', 'VIEW', None, None, None, None, None, 'NO', 'NO', None), ('faker', 'pg_catalog', 'pg_stat_database', 'VIEW', None, None, None, None, None, 'NO', 'NO', None), ('faker', 'pg_catalog', 'pg_stat_database_conflicts', 'VIEW', None, None, None, None, None, 'YES', 'NO', None), ('faker', 'pg_catalog', 'pg_stat_user_functions', 'VIEW', None, None, None, None, None, 'NO', 'NO', None), ('faker', 'pg_catalog', 'pg_user_mappings', 'VIEW', None, None, None, None, None, 'NO', 'NO', None), ('faker', 'pg_catalog', 'pg_largeobject', 'BASE TABLE', None, None, None, None, None, 'YES', 'NO', None), ('faker', 'information_schema', 'information_schema_catalog_name', 'VIEW', None, None, None, None, None, 'NO', 'NO', None), ('faker', 'information_schema', 'attributes', 'VIEW', None, None, None, None, None, 'NO', 'NO', None), ('faker', 'information_schema', 'applicable_roles', 'VIEW', None, None, None, None, None, 'NO', 'NO', None), ('faker', 'information_schema', 'administrable_role_authorizations', 'VIEW', None, None, None, None, None, 'NO', 'NO', None), ('faker', 'information_schema', 'check_constraint_routine_usage', 'VIEW', None, None, None, None, None, 'NO', 'NO', None), ('faker', 'information_schema', 'character_sets', 'VIEW', None, None, None, None, None, 'NO', 'NO', None), ('faker', 'information_schema', 'check_constraints', 'VIEW', None, None, None, None, None, 'NO', 'NO', None), ('faker', 'information_schema', 'collations', 'VIEW', None, None, None, None, None, 'NO', 'NO', None), ('faker', 'information_schema', 'collation_character_set_applicability', 'VIEW', None, None, None, None, None, 'NO', 'NO', None), ('faker', 'information_schema', 'column_column_usage', 'VIEW', None, None, None, None, None, 'NO', 'NO', None), ('faker', 'information_schema', 'column_domain_usage', 'VIEW', None, None, None, None, None, 'NO', 'NO', None), ('faker', 'information_schema', 'routines', 'VIEW', None, None, None, None, None, 'NO', 'NO', None), ('faker', 'information_schema', 'column_privileges', 'VIEW', None, None, None, None, None, 'NO', 'NO', None), ('faker', 'information_schema', 'role_column_grants', 'VIEW', None, None, None, None, None, 'NO', 'NO', None), ('faker', 'information_schema', 'column_udt_usage', 'VIEW', None, None, None, None, None, 'NO', 'NO', None), ('faker', 'information_schema', 'columns', 'VIEW', None, None, None, None, None, 'NO', 'NO', None), ('faker', 'information_schema', 'constraint_column_usage', 'VIEW', None, None, None, None, None, 'NO', 'NO', None), ('faker', 'information_schema', 'routine_column_usage', 'VIEW', None, None, None, None, None, 'NO', 'NO', None), ('faker', 'information_schema', 'constraint_table_usage', 'VIEW', None, None, None, None, None, 'NO', 'NO', None), ('faker', 'information_schema', 'domain_constraints', 'VIEW', None, None, None, None, None, 'NO', 'NO', None), ('faker', 'information_schema', 'domain_udt_usage', 'VIEW', None, None, None, None, None, 'NO', 'NO', None), ('faker', 'information_schema', 'routine_privileges', 'VIEW', None, None, None, None, None, 'NO', 'NO', None), ('faker', 'information_schema', 'domains', 'VIEW', None, None, None, None, None, 'NO', 'NO', None), ('faker', 'information_schema', 'enabled_roles', 'VIEW', None, None, None, None, None, 'NO', 'NO', None), ('faker', 'information_schema', 'schemata', 'VIEW', None, None, None, None, None, 'NO', 'NO', None), ('faker', 'information_schema', 'key_column_usage', 'VIEW', None, None, None, None, None, 'NO', 'NO', None), ('faker', 'information_schema', 'role_routine_grants', 'VIEW', None, None, None, None, None, 'NO', 'NO', None), ('faker', 'information_schema', 'parameters', 'VIEW', None, None, None, None, None, 'NO', 'NO', None), ('faker', 'information_schema', 'referential_constraints', 'VIEW', None, None, None, None, None, 'NO', 'NO', None), ('faker', 'information_schema', 'routine_routine_usage', 'VIEW', None, None, None, None, None, 'NO', 'NO', None), ('faker', 'information_schema', 'routine_sequence_usage', 'VIEW', None, None, None, None, None, 'NO', 'NO', None), ('faker', 'information_schema', 'sequences', 'VIEW', None, None, None, None, None, 'NO', 'NO', None), ('faker', 'information_schema', 'routine_table_usage', 'VIEW', None, None, None, None, None, 'NO', 'NO', None), ('faker', 'information_schema', 'sql_parts', 'BASE TABLE', None, None, None, None, None, 'YES', 'NO', None), ('faker', 'information_schema', 'sql_implementation_info', 'BASE TABLE', None, None, None, None, None, 'YES', 'NO', None), ('faker', 'information_schema', 'sql_features', 'BASE TABLE', None, None, None, None, None, 'YES', 'NO', None), ('faker', 'information_schema', 'sql_sizing', 'BASE TABLE', None, None, None, None, None, 'YES', 'NO', None), ('faker', 'information_schema', 'table_constraints', 'VIEW', None, None, None, None, None, 'NO', 'NO', None), ('faker', 'information_schema', 'table_privileges', 'VIEW', None, None, None, None, None, 'NO', 'NO', None), ('faker', 'information_schema', 'view_table_usage', 'VIEW', None, None, None, None, None, 'NO', 'NO', None), ('faker', 'information_schema', 'role_table_grants', 'VIEW', None, None, None, None, None, 'NO', 'NO', None), ('faker', 'information_schema', 'tables', 'VIEW', None, None, None, None, None, 'NO', 'NO', None), ('faker', 'information_schema', 'transforms', 'VIEW', None, None, None, None, None, 'NO', 'NO', None), ('faker', 'information_schema', 'user_mappings', 'VIEW', None, None, None, None, None, 'NO', 'NO', None), ('faker', 'information_schema', 'triggered_update_columns', 'VIEW', None, None, None, None, None, 'NO', 'NO', None), ('faker', 'information_schema', 'views', 'VIEW', None, None, None, None, None, 'NO', 'NO', None), ('faker', 'information_schema', 'triggers', 'VIEW', None, None, None, None, None, 'NO', 'NO', None), ('faker', 'information_schema', 'udt_privileges', 'VIEW', None, None, None, None, None, 'NO', 'NO', None), ('faker', 'information_schema', 'foreign_data_wrappers', 'VIEW', None, None, None, None, None, 'NO', 'NO', None), ('faker', 'information_schema', 'role_udt_grants', 'VIEW', None, None, None, None, None, 'NO', 'NO', None), ('faker', 'information_schema', 'data_type_privileges', 'VIEW', None, None, None, None, None, 'NO', 'NO', None), ('faker', 'information_schema', 'usage_privileges', 'VIEW', None, None, None, None, None, 'NO', 'NO', None), ('faker', 'information_schema', 'role_usage_grants', 'VIEW', None, None, None, None, None, 'NO', 'NO', None), ('faker', 'information_schema', 'user_defined_types', 'VIEW', None, None, None, None, None, 'NO', 'NO', None), ('faker', 'information_schema', 'element_types', 'VIEW', None, None, None, None, None, 'NO', 'NO', None), ('faker', 'information_schema', 'view_column_usage', 'VIEW', None, None, None, None, None, 'NO', 'NO', None), ('faker', 'information_schema', 'view_routine_usage', 'VIEW', None, None, None, None, None, 'NO', 'NO', None), ('faker', 'information_schema', '_pg_foreign_servers', 'VIEW', None, None, None, None, None, 'NO', 'NO', None), ('faker', 'information_schema', '_pg_foreign_table_columns', 'VIEW', None, None, None, None, None, 'NO', 'NO', None), ('faker', 'information_schema', 'column_options', 'VIEW', None, None, None, None, None, 'NO', 'NO', None), ('faker', 'information_schema', '_pg_foreign_data_wrappers', 'VIEW', None, None, None, None, None, 'NO', 'NO', None), ('faker', 'information_schema', 'foreign_table_options', 'VIEW', None, None, None, None, None, 'NO', 'NO', None), ('faker', 'information_schema', 'foreign_data_wrapper_options', 'VIEW', None, None, None, None, None, 'NO', 'NO', None), ('faker', 'information_schema', 'foreign_server_options', 'VIEW', None, None, None, None, None, 'NO', 'NO', None), ('faker', 'information_schema', 'foreign_servers', 'VIEW', None, None, None, None, None, 'NO', 'NO', None), ('faker', 'information_schema', '_pg_foreign_tables', 'VIEW', None, None, None, None, None, 'NO', 'NO', None), ('faker', 'information_schema', 'user_mapping_options', 'VIEW', None, None, None, None, None, 'NO', 'NO', None), ('faker', 'information_schema', 'foreign_tables', 'VIEW', None, None, None, None, None, 'NO', 'NO', None), ('faker', 'information_schema', '_pg_user_mappings', 'VIEW', None, None, None, None, None, 'NO', 'NO', None)]\n"
     ]
    }
   ],
   "source": [
    "cursor = conn.cursor()\n",
    "cursor.execute(\n",
    "    \"\"\"\n",
    "SELECT *\n",
    "FROM information_schema.tables\n",
    "\"\"\"\n",
    ")\n",
    "output = cursor.fetchall()\n",
    "cursor.close()\n",
    "\n",
    "print(output)"
   ]
  },
  {
   "cell_type": "code",
   "execution_count": 7,
   "id": "c101cd7b-c290-4552-ab65-5658fcfa3a2a",
   "metadata": {},
   "outputs": [],
   "source": [
    "# Faker.seed(0)\n",
    "target_values=10\n",
    "\n",
    "percentage_of_null_values=0.05\n",
    "weight_vs_null_values = [1-percentage_of_null_values,percentage_of_null_values]\n",
    "\n",
    "sales_data = []\n",
    "\n",
    "for row in range(target_values):\n",
    "    name = random.choices([f.name(), \"null\"], weights=weight_vs_null_values)[0]\n",
    "    license = random.choices([f.license_number(), \"null\"], weights=weight_vs_null_values)[0]    \n",
    "    num = random.choices([f.mobile_number(), \"null\"], weights=weight_vs_null_values)[0]\n",
    "    email = random.choices([f.ascii_free_email(), \"null\"], weights=[1-percentage_of_null_values,percentage_of_null_values])[0]\n",
    "    company = random.choices([f.company(), \"null\"], weights=[1-percentage_of_null_values,percentage_of_null_values])[0]\n",
    "    street = random.choices([f.street_address(), \"null\"], weights=[1-percentage_of_null_values,percentage_of_null_values])[0]\n",
    "    city = random.choices([f.province_lgu(), \"null\"], weights=[1-percentage_of_null_values,percentage_of_null_values])[0]\n",
    "    province = random.choices([f.province(), \"null\"], weights=[1-percentage_of_null_values,percentage_of_null_values])[0]\n",
    "    date = random.choices([f.date_this_year(), \"null\"], weights=[1-percentage_of_null_values,percentage_of_null_values])[0]\n",
    "    bank = random.choices([f.bank(), \"null\"], weights=[1-percentage_of_null_values,percentage_of_null_values])[0]\n",
    "    terms = random.choices([f.terms(), \"null\"], weights=[1-percentage_of_null_values,percentage_of_null_values])[0]\n",
    "    car = random.choices([f.car_sold(), \"null\"], weights=[1-percentage_of_null_values,percentage_of_null_values])[0]\n",
    "    color = random.choices([f.car_color(), \"null\"], weights=[1-percentage_of_null_values,percentage_of_null_values])[0]\n",
    "    plate_num = random.choices([f.automobile_license_plate(), \"null\"], weights=[1-percentage_of_null_values,percentage_of_null_values])[0]\n",
    "\n",
    "    sales_data.append([name, license, num, email, company, street, city, province, date, bank, terms, car, color, plate_num])"
   ]
  },
  {
   "cell_type": "code",
   "execution_count": 8,
   "id": "8269b346-004d-43ee-b969-224350073ad2",
   "metadata": {},
   "outputs": [
    {
     "data": {
      "text/plain": [
       "[['Jim Vargas',\n",
       "  'P39-47-160110',\n",
       "  '+63996-613-1264',\n",
       "  'christine01@zohomail.com',\n",
       "  'VY Foods Inc.',\n",
       "  '3740 Zircon Road, Rosas Estates',\n",
       "  'Tanudan',\n",
       "  'Occidental Mindoro',\n",
       "  datetime.date(2023, 2, 16),\n",
       "  'In-house',\n",
       "  '1',\n",
       "  'Great Wall GWM Cannon P-Series Lux 4x2 P 1,198,000 (AT)',\n",
       "  'Yellow',\n",
       "  'OFT6075'],\n",
       " ['Kimberly Keller',\n",
       "  'P51-61-489711',\n",
       "  '+63917-893-3216',\n",
       "  'berryjennifer@yahoo.com',\n",
       "  'MK State Morning Development Inc.',\n",
       "  '3596 48th Street, Miller Homes 4',\n",
       "  'Lupon',\n",
       "  'Batanes',\n",
       "  datetime.date(2023, 2, 13),\n",
       "  'Bank of the Philippine Islands',\n",
       "  '4',\n",
       "  'Suzuki Dzire 1.2 GA P 609,000 (MT)',\n",
       "  'Sky Blue',\n",
       "  'YGE552'],\n",
       " ['Kimberly Larson',\n",
       "  'I54-41-481444',\n",
       "  '+63924-277-8590',\n",
       "  'null',\n",
       "  'Miller Development Inc.',\n",
       "  '1603-I Jacaranda Street',\n",
       "  'Valderrama',\n",
       "  'Camiguin',\n",
       "  datetime.date(2023, 5, 17),\n",
       "  'Philippine National Bank',\n",
       "  '36',\n",
       "  'Ford Ranger Raptor 2.0 Bi-Turbo AWD P 2,339,000 (AT)',\n",
       "  'orange',\n",
       "  'YQG5379'],\n",
       " ['Joseph Nguyen',\n",
       "  'C75-59-974139',\n",
       "  '0961-524-4287',\n",
       "  'ksaunders@zohomail.com',\n",
       "  'Pacific Group Inc.',\n",
       "  'Unit 1814 Hydra Residences Tower 4, 2635 Ruby Drive Extension',\n",
       "  'Romblon',\n",
       "  'Siquijor',\n",
       "  datetime.date(2023, 6, 4),\n",
       "  'Development Bank of the Philippines',\n",
       "  '3',\n",
       "  'Suzuki Carry 1.5 Utility Van P 739,000 (MT)',\n",
       "  'null',\n",
       "  'STF544'],\n",
       " ['Andrea Torres',\n",
       "  'A23-14-634961',\n",
       "  '0927-931-0817',\n",
       "  'kroberts@yahoo.com',\n",
       "  'Pacific World Silver Manufacturing Inc.',\n",
       "  '3310 Jimenez Avenue, Rodriguez Homes',\n",
       "  'Naujan',\n",
       "  'Lanao del Norte',\n",
       "  datetime.date(2023, 5, 24),\n",
       "  'Asia United Bank',\n",
       "  '60',\n",
       "  'Toyota RAV4 LTD Hybrid P 2,607,000 (AT)',\n",
       "  'Silver',\n",
       "  'GWF3043'],\n",
       " ['Ashley Bailey',\n",
       "  'C46-67-939921',\n",
       "  '0947-025-5189',\n",
       "  'null',\n",
       "  'Bautista Development Corporation',\n",
       "  'null',\n",
       "  'Pambujan',\n",
       "  'Catanduanes',\n",
       "  datetime.date(2023, 6, 21),\n",
       "  'Banco de Oro',\n",
       "  '24',\n",
       "  'Nissan Patrol NISMO 5.6 V8 4x4 P 4,999,000 (AT)',\n",
       "  'white',\n",
       "  'BUQ1268'],\n",
       " ['Linda Ward',\n",
       "  'B54-38-960716',\n",
       "  '+63932-653-4656',\n",
       "  'joshuajohnson@yahoo.com',\n",
       "  'Allied Liberty Union Technologies Corporation',\n",
       "  '4807 75th Street',\n",
       "  'San Vicente',\n",
       "  'Camarines Norte',\n",
       "  datetime.date(2023, 1, 29),\n",
       "  'Land Bank of the Philippines',\n",
       "  '1',\n",
       "  'Foton Traveller 16-Seater P 1,600,000 (MT)',\n",
       "  'Grey',\n",
       "  'ZAS5621'],\n",
       " ['Nancy Long',\n",
       "  'A50-91-670520',\n",
       "  '+63947-030-0327',\n",
       "  'murrayalan@gmail.com',\n",
       "  'YD Gold Trust Corporation',\n",
       "  'Block 04 Lot 06 Gemini Cove Phase 2, Cucumber Drive',\n",
       "  'Isulan',\n",
       "  'Palawan',\n",
       "  datetime.date(2023, 1, 4),\n",
       "  'null',\n",
       "  '24',\n",
       "  'Mazda CX-9 AWD Turbo Exclusive P 2,990,000 (AT)',\n",
       "  'Skyblue',\n",
       "  'DHI3968'],\n",
       " ['Ellen Johnson',\n",
       "  'C75-60-502568',\n",
       "  '+63945-671-8957',\n",
       "  'austin46@yahoo.com',\n",
       "  'First Company Corporation',\n",
       "  '5398 Zinia Drive',\n",
       "  'Dimiao',\n",
       "  'La Union',\n",
       "  datetime.date(2023, 1, 28),\n",
       "  'Chinabank',\n",
       "  '24',\n",
       "  'Peugeot 3008 1.6T Allure P 2,255,000 (AT)',\n",
       "  'Sky Blue',\n",
       "  'QLZ9314'],\n",
       " ['Brenda George',\n",
       "  'P02-07-001738',\n",
       "  '+63921-600-9652',\n",
       "  'julie36@yahoo.com',\n",
       "  'BMA Properties Corporation',\n",
       "  'Block 07 Lot 12 Peridot Road, Jones Cove 8',\n",
       "  'Iriga',\n",
       "  'Laguna',\n",
       "  datetime.date(2023, 5, 18),\n",
       "  'Land Bank',\n",
       "  '36',\n",
       "  'Toyota Innova 2.8 E P 1,340,000 (MT)',\n",
       "  'Silver',\n",
       "  'IRB867']]"
      ]
     },
     "execution_count": 8,
     "metadata": {},
     "output_type": "execute_result"
    }
   ],
   "source": [
    "sales_data"
   ]
  },
  {
   "cell_type": "code",
   "execution_count": 9,
   "id": "e6644703-df93-411c-a28f-bd622ebd9af0",
   "metadata": {},
   "outputs": [
    {
     "data": {
      "text/plain": [
       "'\"Norma Fisher\",\"E48-76-475938\",\"0914-194-8924\",\"blairrachel8zohomail.com\",\"Gomez Gold Sun Mining Corporation\",\"B18 L02 Cortez Subdivision, Andromeda Road\",\"Liliw\",\"Quezon\",\"2023-05-22\",\"Development Bank of the Philippines\",\"24\",\"Honda City 1.5 S P 953,000 (AT)\",\"Yellow\",\"OCC328\"\\r\\n\"Sheri Bolton DDS\",\"J48-41-858398\",\"+63911-965-9342\",\"lorijohnson8zohomail.com\",\"Pacific Empire Banking Corporation\",\"31st Floor Rosas Condominiums Tower 4, 9664 Palanan Drive\",\"Pintuyan\",\"Guimaras\",\"2023-01-16\",\"Development Bank of the Philippines\",\"5\",\"Foton Harabas TM 300 MPV Imperium P 1,283,000 (MT)\",\"blue\",\"DWH3304\"\\r\\n\"Christopher Simmons\",\"D01-23-098910\",\"+63925-991-6151\",\"jacobsjamesgmail.com\",\"PWBW Liberty Capital Inc.\",\"6F Brown Suites, 646 Bagtikan Service Road\",\"Mansalay\",\"Nueva Vizcaya\",\"2023-02-20\",\"Development BankPNB\",\"3\",\"Suzuki Jimny 1.5 GLX All-Grip Pro 2-Tone P 1,330,000 (AT)\",\"gray\",\"KQI022\"\\r\\n'"
      ]
     },
     "execution_count": 9,
     "metadata": {},
     "output_type": "execute_result"
    }
   ],
   "source": [
    "Faker.seed(0)\n",
    "f.csv(data_columns=('{{name}}', \n",
    "                    '{{license_number}}', \n",
    "                    '{{mobile_number}}', \n",
    "                    '{{ascii_free_email}}', \n",
    "                    '{{company}}', \n",
    "                    '{{street_address}}', \n",
    "                    '{{province_lgu}}', \n",
    "                    '{{province}}', \n",
    "                    '{{date_this_year}}', \n",
    "                    '{{bank}}', \n",
    "                    '{{terms}}',\n",
    "                    '{{car_sold}}', \n",
    "                    '{{car_color}}', \n",
    "                    '{{automobile_license_plate}}'), num_rows=3, include_row_ids=False)"
   ]
  }
 ],
 "metadata": {
  "kernelspec": {
   "display_name": "Python 3 (ipykernel)",
   "language": "python",
   "name": "python3"
  },
  "language_info": {
   "codemirror_mode": {
    "name": "ipython",
    "version": 3
   },
   "file_extension": ".py",
   "mimetype": "text/x-python",
   "name": "python",
   "nbconvert_exporter": "python",
   "pygments_lexer": "ipython3",
   "version": "3.11.4"
  }
 },
 "nbformat": 4,
 "nbformat_minor": 5
}
